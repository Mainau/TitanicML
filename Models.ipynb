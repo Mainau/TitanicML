{
 "cells": [
  {
   "cell_type": "code",
   "execution_count": 56,
   "metadata": {},
   "outputs": [],
   "source": [
    "import pandas as pd\n",
    "import numpy as np\n",
    "import random as rnd\n",
    "import seaborn as sns\n",
    "import matplotlib.pyplot as plt\n",
    "%matplotlib inline\n",
    "from sklearn.linear_model import LogisticRegression\n",
    "from sklearn.svm import SVC, LinearSVC\n",
    "from sklearn.ensemble import RandomForestClassifier\n",
    "from sklearn.neighbors import KNeighborsClassifier\n",
    "from sklearn.naive_bayes import GaussianNB\n",
    "from sklearn.linear_model import Perceptron\n",
    "from sklearn.linear_model import SGDClassifier\n",
    "from sklearn.tree import DecisionTreeClassifier\n",
    "from sklearn.model_selection import cross_val_score, cross_val_predict\n",
    "from sklearn import metrics\n",
    "import warnings\n",
    "warnings.filterwarnings('ignore')"
   ]
  },
  {
   "cell_type": "code",
   "execution_count": 3,
   "metadata": {},
   "outputs": [
    {
     "data": {
      "text/plain": [
       "((891, 9), (891,), (418, 9))"
      ]
     },
     "execution_count": 3,
     "metadata": {},
     "output_type": "execute_result"
    }
   ],
   "source": [
    "train_df = pd.read_csv('data/train_altered.csv')\n",
    "test_df = pd.read_csv('data/test_altered.csv')\n",
    "X_train = train_df.drop(\"Survived\", axis=1)\n",
    "Y_train = train_df[\"Survived\"]\n",
    "X_test  = test_df.drop(\"PassengerId\", axis=1).copy()\n",
    "X_train.shape, Y_train.shape, X_test.shape"
   ]
  },
  {
   "cell_type": "code",
   "execution_count": 57,
   "metadata": {},
   "outputs": [
    {
     "data": {
      "text/plain": [
       "80.36"
      ]
     },
     "execution_count": 57,
     "metadata": {},
     "output_type": "execute_result"
    }
   ],
   "source": [
    "logreg = LogisticRegression()\n",
    "logreg.fit(X_train, Y_train)\n",
    "Y_pred = logreg.predict(X_test)\n",
    "acc_log = round(logreg.score(X_train, Y_train) * 100, 2)\n",
    "acc_log"
   ]
  },
  {
   "cell_type": "code",
   "execution_count": 5,
   "metadata": {},
   "outputs": [
    {
     "data": {
      "text/html": [
       "<div>\n",
       "<style scoped>\n",
       "    .dataframe tbody tr th:only-of-type {\n",
       "        vertical-align: middle;\n",
       "    }\n",
       "\n",
       "    .dataframe tbody tr th {\n",
       "        vertical-align: top;\n",
       "    }\n",
       "\n",
       "    .dataframe thead th {\n",
       "        text-align: right;\n",
       "    }\n",
       "</style>\n",
       "<table border=\"1\" class=\"dataframe\">\n",
       "  <thead>\n",
       "    <tr style=\"text-align: right;\">\n",
       "      <th></th>\n",
       "      <th>Feature</th>\n",
       "      <th>Correlation</th>\n",
       "    </tr>\n",
       "  </thead>\n",
       "  <tbody>\n",
       "    <tr>\n",
       "      <th>2</th>\n",
       "      <td>Sex</td>\n",
       "      <td>2.201768</td>\n",
       "    </tr>\n",
       "    <tr>\n",
       "      <th>6</th>\n",
       "      <td>Title</td>\n",
       "      <td>0.397974</td>\n",
       "    </tr>\n",
       "    <tr>\n",
       "      <th>3</th>\n",
       "      <td>Age</td>\n",
       "      <td>0.287277</td>\n",
       "    </tr>\n",
       "    <tr>\n",
       "      <th>5</th>\n",
       "      <td>Embarked</td>\n",
       "      <td>0.263101</td>\n",
       "    </tr>\n",
       "    <tr>\n",
       "      <th>7</th>\n",
       "      <td>IsAlone</td>\n",
       "      <td>0.128674</td>\n",
       "    </tr>\n",
       "    <tr>\n",
       "      <th>0</th>\n",
       "      <td>Survived</td>\n",
       "      <td>0.000020</td>\n",
       "    </tr>\n",
       "    <tr>\n",
       "      <th>4</th>\n",
       "      <td>Fare</td>\n",
       "      <td>-0.085247</td>\n",
       "    </tr>\n",
       "    <tr>\n",
       "      <th>8</th>\n",
       "      <td>Age*Class</td>\n",
       "      <td>-0.311319</td>\n",
       "    </tr>\n",
       "    <tr>\n",
       "      <th>1</th>\n",
       "      <td>Pclass</td>\n",
       "      <td>-0.749008</td>\n",
       "    </tr>\n",
       "  </tbody>\n",
       "</table>\n",
       "</div>"
      ],
      "text/plain": [
       "     Feature  Correlation\n",
       "2        Sex     2.201768\n",
       "6      Title     0.397974\n",
       "3        Age     0.287277\n",
       "5   Embarked     0.263101\n",
       "7    IsAlone     0.128674\n",
       "0   Survived     0.000020\n",
       "4       Fare    -0.085247\n",
       "8  Age*Class    -0.311319\n",
       "1     Pclass    -0.749008"
      ]
     },
     "execution_count": 5,
     "metadata": {},
     "output_type": "execute_result"
    }
   ],
   "source": [
    "coeff_df = pd.DataFrame(train_df.columns.delete(0))\n",
    "coeff_df.columns = ['Feature']\n",
    "coeff_df[\"Correlation\"] = pd.Series(logreg.coef_[0])\n",
    "\n",
    "coeff_df.sort_values(by='Correlation', ascending=False)"
   ]
  },
  {
   "cell_type": "code",
   "execution_count": 62,
   "metadata": {},
   "outputs": [
    {
     "name": "stdout",
     "output_type": "stream",
     "text": [
      "Cross Validation Accuracy:\n",
      "[0.61971831 0.57042254 0.62411348 0.59285714 0.62142857]\n",
      "Test Accuracy:\n",
      "62.9\n"
     ]
    }
   ],
   "source": [
    "svc = SVC()\n",
    "msk = np.random.rand(len(X_train)) < 0.8\n",
    "svc.fit(X_train[msk], Y_train[msk])\n",
    "#Y_pred = svc.predict(X_test)\n",
    "scores = cross_val_score(svc, X_train[msk], Y_train[msk], cv=5)\n",
    "print(\"Cross Validation Accuracy:\")\n",
    "print(scores)\n",
    "acc_svc = round(svc.score(X_train[~msk], Y_train[~msk]) * 100, 2)\n",
    "print(\"Test Accuracy:\")\n",
    "print(acc_svc)"
   ]
  },
  {
   "cell_type": "code",
   "execution_count": 60,
   "metadata": {},
   "outputs": [
    {
     "name": "stdout",
     "output_type": "stream",
     "text": [
      "Cross Validation Accuracy:\n",
      "[0.68531469 0.70422535 0.75177305 0.4964539  0.76595745]\n",
      "Test Accuracy:\n",
      "61.2\n"
     ]
    }
   ],
   "source": [
    "knn = KNeighborsClassifier(n_neighbors = 3)\n",
    "msk = np.random.rand(len(X_train)) < 0.8\n",
    "knn.fit(X_train[msk], Y_train[msk])\n",
    "#Y_pred = knn.predict(X_test)\n",
    "scores = cross_val_score(gaussian, X_train[msk], Y_train[msk], cv=5)\n",
    "print(\"Cross Validation Accuracy:\")\n",
    "print(scores)\n",
    "acc_knn = round(knn.score(X_train[~msk], Y_train[~msk]) * 100, 2)\n",
    "print(\"Test Accuracy:\")\n",
    "print(acc_knn)\n"
   ]
  },
  {
   "cell_type": "code",
   "execution_count": 59,
   "metadata": {},
   "outputs": [
    {
     "name": "stdout",
     "output_type": "stream",
     "text": [
      "Cross Validation Accuracy:\n",
      "[0.70547945 0.69178082 0.75342466 0.57534247 0.78472222]\n",
      "Test Accuracy:\n",
      "71.78\n"
     ]
    }
   ],
   "source": [
    "gaussian = GaussianNB()\n",
    "msk = np.random.rand(len(X_train)) < 0.8\n",
    "gaussian.fit(X_train[msk], Y_train[msk])\n",
    "#Y_pred = gaussian.predict(X_test)\n",
    "scores = cross_val_score(gaussian, X_train[msk], Y_train[msk], cv=5)\n",
    "print(\"Cross Validation Accuracy:\")\n",
    "print(scores)\n",
    "acc_gaussian = round(gaussian.score(X_train[~msk], Y_train[~msk]) * 100, 2)\n",
    "print(\"Test Accuracy:\")\n",
    "print(acc_gaussian)"
   ]
  },
  {
   "cell_type": "code",
   "execution_count": 58,
   "metadata": {},
   "outputs": [
    {
     "name": "stdout",
     "output_type": "stream",
     "text": [
      "Cross Validation Accuracy:\n",
      "[0.40425532 0.38297872 0.37588652 0.37857143 0.62589928]\n",
      "Test Accuracy:\n",
      "59.26\n"
     ]
    }
   ],
   "source": [
    "perceptron = Perceptron()\n",
    "msk = np.random.rand(len(X_train)) < 0.8\n",
    "perceptron.fit(X_train[msk], Y_train[msk])\n",
    "scores = cross_val_score(perceptron, X_train[msk], Y_train[msk], cv=5)\n",
    "print(\"Cross Validation Accuracy:\")\n",
    "print(scores)\n",
    "#Y_pred = perceptron.predict(X_test)\n",
    "acc_perceptron = round(perceptron.score(X_train[~msk], Y_train[~msk]) * 100, 2)\n",
    "print(\"Test Accuracy:\")\n",
    "print(acc_perceptron)\n"
   ]
  },
  {
   "cell_type": "code",
   "execution_count": 64,
   "metadata": {},
   "outputs": [
    {
     "name": "stdout",
     "output_type": "stream",
     "text": [
      "Cross Validation Accuracy:\n",
      "[0.70138889 0.8125     0.67361111 0.38194444 0.38732394]\n",
      "Test Accuracy:\n",
      "54.34\n"
     ]
    }
   ],
   "source": [
    "linear_svc = LinearSVC()\n",
    "msk = np.random.rand(len(X_train)) < 0.8\n",
    "linear_svc.fit(X_train[msk], Y_train[msk])\n",
    "#Y_pred = linear_svc.predict(X_test)\n",
    "scores = cross_val_score(linear_svc, X_train[msk], Y_train[msk], cv=5)\n",
    "print(\"Cross Validation Accuracy:\")\n",
    "print(scores)\n",
    "acc_linear_svc = round(linear_svc.score(X_train[~msk], Y_train[~msk]) * 100, 2)\n",
    "print(\"Test Accuracy:\")\n",
    "print(acc_linear_svc)"
   ]
  },
  {
   "cell_type": "code",
   "execution_count": 65,
   "metadata": {},
   "outputs": [
    {
     "name": "stdout",
     "output_type": "stream",
     "text": [
      "Cross Validation Accuracy:\n",
      "[0.6137931  0.60689655 0.39310345 0.39310345 0.60839161]\n",
      "Test Accuracy:\n",
      "65.48\n"
     ]
    }
   ],
   "source": [
    "sgd = SGDClassifier()\n",
    "msk = np.random.rand(len(X_train)) < 0.8\n",
    "sgd.fit(X_train[msk], Y_train[msk])\n",
    "#Y_pred = sgd.predict(X_test)\n",
    "scores = cross_val_score(sgd, X_train[msk], Y_train[msk], cv=5)\n",
    "print(\"Cross Validation Accuracy:\")\n",
    "print(scores)\n",
    "acc_sgd = round(sgd.score(X_train[~msk], Y_train[~msk]) * 100, 2)\n",
    "print(\"Test Accuracy:\")\n",
    "print(acc_sgd)\n"
   ]
  },
  {
   "cell_type": "code",
   "execution_count": 68,
   "metadata": {},
   "outputs": [
    {
     "name": "stdout",
     "output_type": "stream",
     "text": [
      "Cross Validation Accuracy:\n",
      "[0.82312925 0.69863014 0.7862069  0.77241379 0.80689655]\n",
      "Test Accuracy:\n",
      "77.3\n"
     ]
    }
   ],
   "source": [
    "decision_tree = DecisionTreeClassifier()\n",
    "msk = np.random.rand(len(X_train)) < 0.8\n",
    "decision_tree.fit(X_train[msk], Y_train[msk])\n",
    "#Y_pred = decision_tree.predict(X_train[~msk])\n",
    "scores = cross_val_score(decision_tree, X_train[msk], Y_train[msk], cv=5)\n",
    "print(\"Cross Validation Accuracy:\")\n",
    "print(scores)\n",
    "acc_decision_tree = round(decision_tree.score(X_train[~msk], Y_train[~msk]) * 100, 2)\n",
    "print(\"Test Accuracy:\")\n",
    "print(acc_decision_tree)\n"
   ]
  },
  {
   "cell_type": "code",
   "execution_count": 71,
   "metadata": {},
   "outputs": [
    {
     "name": "stdout",
     "output_type": "stream",
     "text": [
      "Cross Validation Accuracy:\n",
      "[0.75510204 0.82876712 0.80689655 0.8        0.80689655]\n",
      "Test Accuracy:\n",
      "100.0\n"
     ]
    }
   ],
   "source": [
    "random_forest = RandomForestClassifier(n_estimators=100)\n",
    "random_forest.fit(X_train, Y_train)\n",
    "#Y_pred = random_forest.predict(X_test)\n",
    "scores = cross_val_score(random_forest, X_train[msk], Y_train[msk], cv=5)\n",
    "print(\"Cross Validation Accuracy:\")\n",
    "print(scores)\n",
    "random_forest.score(X_train, Y_train)\n",
    "acc_random_forest = round(random_forest.score(X_train[~msk], Y_train[~msk]) * 100, 2)\n",
    "print(\"Test Accuracy:\")\n",
    "print(acc_random_forest)"
   ]
  },
  {
   "cell_type": "code",
   "execution_count": 72,
   "metadata": {},
   "outputs": [
    {
     "data": {
      "text/html": [
       "<div>\n",
       "<style scoped>\n",
       "    .dataframe tbody tr th:only-of-type {\n",
       "        vertical-align: middle;\n",
       "    }\n",
       "\n",
       "    .dataframe tbody tr th {\n",
       "        vertical-align: top;\n",
       "    }\n",
       "\n",
       "    .dataframe thead th {\n",
       "        text-align: right;\n",
       "    }\n",
       "</style>\n",
       "<table border=\"1\" class=\"dataframe\">\n",
       "  <thead>\n",
       "    <tr style=\"text-align: right;\">\n",
       "      <th></th>\n",
       "      <th>Model</th>\n",
       "      <th>Score</th>\n",
       "    </tr>\n",
       "  </thead>\n",
       "  <tbody>\n",
       "    <tr>\n",
       "      <th>3</th>\n",
       "      <td>Random Forest</td>\n",
       "      <td>100.00</td>\n",
       "    </tr>\n",
       "    <tr>\n",
       "      <th>2</th>\n",
       "      <td>Logistic Regression</td>\n",
       "      <td>80.36</td>\n",
       "    </tr>\n",
       "    <tr>\n",
       "      <th>8</th>\n",
       "      <td>Decision Tree</td>\n",
       "      <td>77.30</td>\n",
       "    </tr>\n",
       "    <tr>\n",
       "      <th>4</th>\n",
       "      <td>Naive Bayes</td>\n",
       "      <td>71.78</td>\n",
       "    </tr>\n",
       "    <tr>\n",
       "      <th>6</th>\n",
       "      <td>Stochastic Gradient Decent</td>\n",
       "      <td>65.48</td>\n",
       "    </tr>\n",
       "    <tr>\n",
       "      <th>0</th>\n",
       "      <td>Support Vector Machines</td>\n",
       "      <td>62.90</td>\n",
       "    </tr>\n",
       "    <tr>\n",
       "      <th>1</th>\n",
       "      <td>KNN</td>\n",
       "      <td>61.20</td>\n",
       "    </tr>\n",
       "    <tr>\n",
       "      <th>5</th>\n",
       "      <td>Perceptron</td>\n",
       "      <td>59.26</td>\n",
       "    </tr>\n",
       "    <tr>\n",
       "      <th>7</th>\n",
       "      <td>Linear SVC</td>\n",
       "      <td>54.34</td>\n",
       "    </tr>\n",
       "  </tbody>\n",
       "</table>\n",
       "</div>"
      ],
      "text/plain": [
       "                        Model   Score\n",
       "3               Random Forest  100.00\n",
       "2         Logistic Regression   80.36\n",
       "8               Decision Tree   77.30\n",
       "4                 Naive Bayes   71.78\n",
       "6  Stochastic Gradient Decent   65.48\n",
       "0     Support Vector Machines   62.90\n",
       "1                         KNN   61.20\n",
       "5                  Perceptron   59.26\n",
       "7                  Linear SVC   54.34"
      ]
     },
     "execution_count": 72,
     "metadata": {},
     "output_type": "execute_result"
    }
   ],
   "source": [
    "models = pd.DataFrame({\n",
    "    'Model': ['Support Vector Machines', 'KNN', 'Logistic Regression', \n",
    "              'Random Forest', 'Naive Bayes', 'Perceptron', \n",
    "              'Stochastic Gradient Decent', 'Linear SVC', \n",
    "              'Decision Tree'],\n",
    "    'Score': [acc_svc, acc_knn, acc_log, \n",
    "              acc_random_forest, acc_gaussian, acc_perceptron, \n",
    "              acc_sgd, acc_linear_svc, acc_decision_tree]})\n",
    "models.sort_values(by='Score', ascending=False)\n",
    "\n"
   ]
  },
  {
   "cell_type": "code",
   "execution_count": null,
   "metadata": {},
   "outputs": [],
   "source": []
  }
 ],
 "metadata": {
  "kernelspec": {
   "display_name": "Python 3",
   "language": "python",
   "name": "python3"
  },
  "language_info": {
   "codemirror_mode": {
    "name": "ipython",
    "version": 3
   },
   "file_extension": ".py",
   "mimetype": "text/x-python",
   "name": "python",
   "nbconvert_exporter": "python",
   "pygments_lexer": "ipython3",
   "version": "3.6.6"
  }
 },
 "nbformat": 4,
 "nbformat_minor": 2
}
